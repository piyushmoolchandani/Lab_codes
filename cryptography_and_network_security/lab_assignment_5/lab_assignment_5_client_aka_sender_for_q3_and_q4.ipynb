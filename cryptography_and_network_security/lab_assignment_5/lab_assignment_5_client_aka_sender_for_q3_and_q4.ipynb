{
 "cells": [
  {
   "cell_type": "code",
   "execution_count": 11,
   "metadata": {},
   "outputs": [],
   "source": [
    "def gcd(a, b):\n",
    "    if (b == 0):\n",
    "        return a;\n",
    "    else:\n",
    "        return gcd(b, a % b);\n",
    "\n",
    "def extended_gcd(a, b):\n",
    "    r1 = a\n",
    "    r2 = b\n",
    "    s1 = 1\n",
    "    s2 = 0\n",
    "    t1 = 0\n",
    "    t2 = 1\n",
    "    while(r2 > 0):\n",
    "        q = r1 // r2\n",
    "\n",
    "        r = r1 - q * r2\n",
    "        r1 = r2\n",
    "        r2 = r\n",
    "\n",
    "        s = s1 - q * s2\n",
    "        s1 = s2\n",
    "        s2 = s\n",
    "\n",
    "        t = t1 - q * t2\n",
    "        t1 = t2\n",
    "        t2 = t\n",
    "    return [r1, s1, t1]\n",
    "\n",
    "def mul_inverse(n, b):\n",
    "    if gcd(n, b) == 1:\n",
    "        return extended_gcd(n, b)[2] % n\n",
    "    else:\n",
    "        return -1"
   ]
  },
  {
   "cell_type": "code",
   "execution_count": 12,
   "metadata": {},
   "outputs": [],
   "source": [
    "def fast_exponentiation(a, x, n):\n",
    "    p = list(bin(x)[2:])\n",
    "    y = 1\n",
    "    p.reverse()\n",
    "    for i in range(len(p)):\n",
    "        if p[i] == '1':\n",
    "            y = (a * y) % n\n",
    "        a = (a * a) % n\n",
    "    return y\n",
    "\n",
    "def rsa_key_generation():\n",
    "    p = 7\n",
    "    q = 11\n",
    "    e = 13\n",
    "    phy_n = ((p - 1) * (q - 1))\n",
    "    d = mul_inverse(phy_n, e)\n",
    "    public_key = (e, p * q)\n",
    "    private_key = d\n",
    "    return [public_key, private_key]"
   ]
  },
  {
   "cell_type": "markdown",
   "metadata": {},
   "source": [
    "# 3. RSA : Encryption\n",
    "\n",
    "* Run receiver first (Please run only 3th question's receiver with this sender)"
   ]
  },
  {
   "cell_type": "code",
   "execution_count": 15,
   "metadata": {},
   "outputs": [],
   "source": [
    "def rsa_encryption(P, e, n):\n",
    "    C = fast_exponentiation(P, e, n)\n",
    "    return C"
   ]
  },
  {
   "cell_type": "code",
   "execution_count": 16,
   "metadata": {},
   "outputs": [
    {
     "name": "stdout",
     "output_type": "stream",
     "text": [
      "Input(please enter only a integer): 5\n",
      "Data sent (encrypted):  26\n"
     ]
    }
   ],
   "source": [
    "import socket\n",
    "from ast import literal_eval as make_tuple\n",
    "\n",
    "s = socket.socket(socket.AF_INET, socket.SOCK_STREAM)\n",
    "port = 1234;\n",
    "s.connect(('127.0.0.1', port))\n",
    "\n",
    "public_key = make_tuple(s.recv(1024).decode())\n",
    "P = int(input(\"Input(please enter only a integer): \"))\n",
    "C = rsa_encryption(P, public_key[0], public_key[1])\n",
    "s.send(str(C).encode())\n",
    "s.close()\n",
    "print(\"Data sent (encrypted): \", C)"
   ]
  },
  {
   "cell_type": "markdown",
   "metadata": {},
   "source": [
    "# 4. RSA Digital Signature : Sender \n",
    "\n",
    "* Run receiver first (Please run only 4th question's receiver with this sender)"
   ]
  },
  {
   "cell_type": "code",
   "execution_count": 17,
   "metadata": {},
   "outputs": [],
   "source": [
    "def rsa_encryption(P, e, n):\n",
    "    C = fast_exponentiation(P, e, n)\n",
    "    return C"
   ]
  },
  {
   "cell_type": "code",
   "execution_count": 18,
   "metadata": {},
   "outputs": [
    {
     "name": "stdout",
     "output_type": "stream",
     "text": [
      "Enter Input(Please enter only interger) : 5\n",
      "Message sent, waiting for authentication ...\n",
      "Authorized.\n"
     ]
    }
   ],
   "source": [
    "import socket\n",
    "\n",
    "s = socket.socket(socket.AF_INET, socket.SOCK_STREAM)\n",
    "port = 1234;\n",
    "s.connect(('127.0.0.1', port))\n",
    "\n",
    "#create key\n",
    "keys = rsa_key_generation()\n",
    "public_key = keys[0]\n",
    "private_key = keys[1]\n",
    "\n",
    "s.send(str(public_key).encode())\n",
    "\n",
    "P = int(input(\"Enter Input(Please enter only interger) : \"))\n",
    "C = rsa_encryption(P, private_key, public_key[1])\n",
    "s.send(str((P, C)).encode())\n",
    "print(\"Message sent, waiting for authentication ...\")\n",
    "auth = s.recv(1024).decode()\n",
    "if (auth == '1'):\n",
    "    print(\"Authorized.\")\n",
    "else:\n",
    "    print(\"Authentication Failed.\")\n",
    "s.close()"
   ]
  },
  {
   "cell_type": "code",
   "execution_count": null,
   "metadata": {},
   "outputs": [],
   "source": []
  }
 ],
 "metadata": {
  "kernelspec": {
   "display_name": "Python 3",
   "language": "python",
   "name": "python3"
  },
  "language_info": {
   "codemirror_mode": {
    "name": "ipython",
    "version": 3
   },
   "file_extension": ".py",
   "mimetype": "text/x-python",
   "name": "python",
   "nbconvert_exporter": "python",
   "pygments_lexer": "ipython3",
   "version": "3.7.4"
  }
 },
 "nbformat": 4,
 "nbformat_minor": 2
}
